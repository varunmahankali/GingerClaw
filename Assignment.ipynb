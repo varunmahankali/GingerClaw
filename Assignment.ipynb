{
 "cells": [
  {
   "cell_type": "markdown",
   "metadata": {},
   "source": [
    "# My Jupyter Notebook on IBM Data Science Experience"
   ]
  },
  {
   "cell_type": "markdown",
   "metadata": {},
   "source": [
    "**Varun Mahankali**  \n",
    "Junior Research Scientist, Hydrocarbon Recovery"
   ]
  },
  {
   "cell_type": "markdown",
   "metadata": {},
   "source": [
    "_We Geophysicists use Data Analytics and Data Science to interpret Seismic Acquisition and Well Logging Data_"
   ]
  },
  {
   "cell_type": "markdown",
   "metadata": {},
   "source": [
    "### My code will be a simple arithematic expression"
   ]
  },
  {
   "cell_type": "code",
   "execution_count": 3,
   "metadata": {},
   "outputs": [
    {
     "data": {
      "text/plain": [
       "3.0"
      ]
     },
     "execution_count": 3,
     "metadata": {},
     "output_type": "execute_result"
    }
   ],
   "source": [
    "9/3"
   ]
  },
  {
   "cell_type": "markdown",
   "metadata": {},
   "source": [
    "* So this is a bulleted list  \n",
    "* This will be of 3 points  \n",
    "* This is the last point. We will move to table now  \n",
    "\n",
    "| One Coloumn | Two Coloumn | Three Coloumn|\n",
    "---|---|---|\n",
    "This | is | cool\n",
    "Don't | you| think?\n",
    "See | You | Later  \n",
    "\n",
    "\n",
    "Real Madrid is my favorite team! Here's the logo:  \n",
    "![alt text](https://seeklogo.net/wp-content/uploads/2014/10/real-madrid-logo-preview.png)"
   ]
  },
  {
   "cell_type": "code",
   "execution_count": null,
   "metadata": {},
   "outputs": [],
   "source": []
  }
 ],
 "metadata": {
  "kernelspec": {
   "display_name": "Python 3",
   "language": "python",
   "name": "python3"
  },
  "language_info": {
   "codemirror_mode": {
    "name": "ipython",
    "version": 3
   },
   "file_extension": ".py",
   "mimetype": "text/x-python",
   "name": "python",
   "nbconvert_exporter": "python",
   "pygments_lexer": "ipython3",
   "version": "3.7.4"
  }
 },
 "nbformat": 4,
 "nbformat_minor": 4
}
